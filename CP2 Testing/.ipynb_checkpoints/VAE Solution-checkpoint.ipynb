{
 "cells": [
  {
   "cell_type": "code",
   "execution_count": 13,
   "metadata": {},
   "outputs": [
    {
     "ename": "ModuleNotFoundError",
     "evalue": "No module named 'tensorflow_probability'",
     "output_type": "error",
     "traceback": [
      "\u001b[0;31m---------------------------------------------------------------------------\u001b[0m",
      "\u001b[0;31mModuleNotFoundError\u001b[0m                       Traceback (most recent call last)",
      "\u001b[0;32m<ipython-input-13-46a7b7e49622>\u001b[0m in \u001b[0;36m<module>\u001b[0;34m\u001b[0m\n\u001b[1;32m      6\u001b[0m \u001b[0;32mimport\u001b[0m \u001b[0mtensorflow\u001b[0m \u001b[0;32mas\u001b[0m \u001b[0mtf\u001b[0m\u001b[0;34m\u001b[0m\u001b[0;34m\u001b[0m\u001b[0m\n\u001b[1;32m      7\u001b[0m \u001b[0;32mimport\u001b[0m \u001b[0mmatplotlib\u001b[0m\u001b[0;34m.\u001b[0m\u001b[0mpyplot\u001b[0m \u001b[0;32mas\u001b[0m \u001b[0mplt\u001b[0m\u001b[0;34m\u001b[0m\u001b[0;34m\u001b[0m\u001b[0m\n\u001b[0;32m----> 8\u001b[0;31m \u001b[0;32mimport\u001b[0m \u001b[0mtensorflow_probability\u001b[0m \u001b[0;32mas\u001b[0m \u001b[0mtfp\u001b[0m\u001b[0;34m\u001b[0m\u001b[0;34m\u001b[0m\u001b[0m\n\u001b[0m",
      "\u001b[0;31mModuleNotFoundError\u001b[0m: No module named 'tensorflow_probability'"
     ]
    }
   ],
   "source": [
    "import pandas as pd\n",
    "from sklearn import preprocessing\n",
    "from PIL import Image\n",
    "import numpy as np\n",
    "from sklearn.model_selection import train_test_split\n",
    "import tensorflow as tf\n",
    "import matplotlib.pyplot as plt\n",
    "import tensorflow_probability as tfp"
   ]
  },
  {
   "cell_type": "code",
   "execution_count": 2,
   "metadata": {},
   "outputs": [],
   "source": [
    "x=pd.read_csv(\"./BIKED_processed.csv\", index_col=0)"
   ]
  },
  {
   "cell_type": "code",
   "execution_count": 3,
   "metadata": {},
   "outputs": [],
   "source": [
    "min_max_scaler = preprocessing.MinMaxScaler()\n",
    "x_scaled = min_max_scaler.fit_transform(x.values)\n",
    "x_scaled = pd.DataFrame(x_scaled, columns=x.columns,index=x.index.values).astype('float32')"
   ]
  },
  {
   "cell_type": "code",
   "execution_count": 4,
   "metadata": {},
   "outputs": [],
   "source": [
    "with open(\"images.npy\", 'rb') as f:\n",
    "    images = np.load(f)"
   ]
  },
  {
   "cell_type": "code",
   "execution_count": 5,
   "metadata": {},
   "outputs": [],
   "source": [
    "param_train, param_val, image_train, image_val = train_test_split(x_scaled, images, test_size=0.2, random_state=42)\n",
    "image_train=tf.cast(tf.expand_dims(image_train, -1), tf.float32)\n",
    "image_val=tf.cast(tf.expand_dims(image_val, -1), tf.float32)"
   ]
  },
  {
   "cell_type": "code",
   "execution_count": 10,
   "metadata": {},
   "outputs": [],
   "source": [
    "class imVAE:\n",
    "    def __init__(self, imdims, latent_dim, kl_weight, learning_rate):\n",
    "        self.dim_x = imdims\n",
    "        self.latent_dim = latent_dim\n",
    "        self.kl_weight = kl_weight\n",
    "        self.learning_rate = learning_rate\n",
    "    def encoder(self):\n",
    "        # define prior distribution for the code, which is an isotropic Gaussian\n",
    "        prior = tfp.distributions.Independent(tfp.distributions.Normal(loc=tf.zeros(self.latent_dim), scale=1.), \n",
    "                                reinterpreted_batch_ndims=1)\n",
    "        \n",
    "        model=[layers.InputLayer(input_shape=self.dim_x)]\n",
    "        \n",
    "        model.append(layers.Conv2D(filters=64, kernel_size=3, strides=(2, 2),name=\"e1\"))\n",
    "        model.append(layers.BatchNormalization())\n",
    "        model.append(layers.LeakyReLU())\n",
    "#         model.append(layers.ReLU())\n",
    "        model.append(layers.Dropout(0.1))\n",
    "        \n",
    "        model.append(layers.Conv2D(filters=128, kernel_size=3, strides=(5, 5),name=\"e2\"))\n",
    "        model.append(layers.BatchNormalization())\n",
    "        model.append(layers.LeakyReLU())\n",
    "#         model.append(layers.ReLU())\n",
    "        model.append(layers.Dropout(0.1))\n",
    "        \n",
    "        model.append(layers.Flatten())\n",
    "        model.append(layers.Dense(tfp.layers.IndependentNormal.params_size(self.latent_dim), name=\"e3\"))\n",
    "        \n",
    "        model.append(tfp.layers.IndependentNormal(self.latent_dim, convert_to_tensor_fn=tfp.distributions.Distribution.sample, activity_regularizer=tfp.layers.KLDivergenceRegularizer(prior, weight=self.kl_weight), name=\"e4\"))\n",
    "        return keras.Sequential(model, name='encoder')\n",
    "    \n",
    "    def decoder(self):\n",
    "        decoder=keras.Sequential()\n",
    "        model=[layers.InputLayer(input_shape=(self.latent_dim,))]\n",
    "\n",
    "        model.append(layers.Dense(30*65*32, name=\"layer1\"))\n",
    "        model.append(layers.BatchNormalization())\n",
    "        model.append(layers.LeakyReLU())\n",
    "#         model.append(layers.ReLU())\n",
    "        \n",
    "        model.append(layers.Dropout(0.1))\n",
    "\n",
    "        model.append(layers.Reshape(target_shape=(30, 65, 32)))\n",
    "\n",
    "        model.append(layers.Conv2DTranspose(filters=128, kernel_size=3, strides=2, padding='same',name=\"d1\"))\n",
    "        model.append(layers.BatchNormalization())\n",
    "        model.append(layers.LeakyReLU())\n",
    "#         model.append(layers.ReLU())\n",
    "        model.append(layers.Dropout(0.1))\n",
    "\n",
    "        model.append(layers.Conv2DTranspose(filters=64, kernel_size=3, strides=2, padding='same',name=\"d2\"))\n",
    "        model.append(layers.BatchNormalization())\n",
    "        model.append(layers.LeakyReLU())\n",
    "#         model.append(layers.ReLU())\n",
    "        model.append(layers.Dropout(0.1))\n",
    "\n",
    "#         model.append(layers.UpSampling2D((2,2)))\n",
    "#         model.append(layers.Conv2D(filters=96, kernel_size=3, strides=(1,1),name=\"d1\"))\n",
    "#         model.append(layers.BatchNormalization())\n",
    "#         model.append(layers.LeakyReLU())\n",
    "\n",
    "#         model.append(layers.UpSampling2D((2,2)))\n",
    "#         model.append(layers.Conv2D(filters=96, kernel_size=3, strides=(1,1),name=\"d2\"))\n",
    "#         model.append(layers.BatchNormalization())\n",
    "#         model.append(layers.LeakyReLU())\n",
    "\n",
    "        model.append(layers.Conv2DTranspose(filters=1, kernel_size=3, strides=1, padding='same',name=\"d3\"))\n",
    "        \n",
    "#         model.append(keras.layers.Flatten())\n",
    "#         model.append(tfp.layers.IndependentBernoulli(self.dim_x, name='x_layer'))\n",
    "\n",
    "        return keras.Sequential(model, name='decoder')\n",
    "    \n",
    "    def build_vae_keras_model(self):\n",
    "        x_input = tf.keras.Input(shape=self.dim_x)\n",
    "        encoder = self.encoder()\n",
    "        decoder = self.decoder()\n",
    "#         encoder.summary()\n",
    "#         decoder.summary()\n",
    "        z = encoder(x_input)\n",
    "        output=decoder(z)\n",
    "\n",
    "        negative_log_likelihood = lambda x, rv_x: -rv_x.log_prob(x)\n",
    "        \n",
    "        # compile VAE model\n",
    "        model = keras.Model(inputs=x_input, outputs=output)\n",
    "        model.compile(loss=custom_sigmoid_cross_entropy_loss_with_logits, optimizer=keras.optimizers.Adam(self.learning_rate))\n",
    "        return model"
   ]
  },
  {
   "cell_type": "code",
   "execution_count": 11,
   "metadata": {},
   "outputs": [
    {
     "ename": "NameError",
     "evalue": "name 'tfp' is not defined",
     "output_type": "error",
     "traceback": [
      "\u001b[0;31m---------------------------------------------------------------------------\u001b[0m",
      "\u001b[0;31mNameError\u001b[0m                                 Traceback (most recent call last)",
      "\u001b[0;32m<ipython-input-11-6c10a719fcaf>\u001b[0m in \u001b[0;36m<module>\u001b[0;34m\u001b[0m\n\u001b[1;32m      1\u001b[0m \u001b[0mdim_x\u001b[0m\u001b[0;34m=\u001b[0m\u001b[0mlen\u001b[0m\u001b[0;34m(\u001b[0m\u001b[0mparam_train\u001b[0m\u001b[0;34m.\u001b[0m\u001b[0mcolumns\u001b[0m\u001b[0;34m)\u001b[0m\u001b[0;34m\u001b[0m\u001b[0;34m\u001b[0m\u001b[0m\n\u001b[1;32m      2\u001b[0m \u001b[0mdim_y\u001b[0m\u001b[0;34m=\u001b[0m\u001b[0mnp\u001b[0m\u001b[0;34m.\u001b[0m\u001b[0mshape\u001b[0m\u001b[0;34m(\u001b[0m\u001b[0mimage_train\u001b[0m\u001b[0;34m[\u001b[0m\u001b[0;36m1\u001b[0m\u001b[0;34m]\u001b[0m\u001b[0;34m)\u001b[0m\u001b[0;34m\u001b[0m\u001b[0;34m\u001b[0m\u001b[0m\n\u001b[0;32m----> 3\u001b[0;31m \u001b[0mimageVAE\u001b[0m\u001b[0;34m=\u001b[0m\u001b[0mimVAE\u001b[0m\u001b[0;34m(\u001b[0m\u001b[0mdim_y\u001b[0m\u001b[0;34m,\u001b[0m \u001b[0;36m32\u001b[0m\u001b[0;34m,\u001b[0m \u001b[0;36m1\u001b[0m\u001b[0;34m,\u001b[0m \u001b[0;36m1e-4\u001b[0m\u001b[0;34m)\u001b[0m\u001b[0;34m.\u001b[0m\u001b[0mbuild_vae_keras_model\u001b[0m\u001b[0;34m(\u001b[0m\u001b[0;34m)\u001b[0m\u001b[0;34m\u001b[0m\u001b[0;34m\u001b[0m\u001b[0m\n\u001b[0m\u001b[1;32m      4\u001b[0m \u001b[0mcallback\u001b[0m \u001b[0;34m=\u001b[0m \u001b[0mtf\u001b[0m\u001b[0;34m.\u001b[0m\u001b[0mkeras\u001b[0m\u001b[0;34m.\u001b[0m\u001b[0mcallbacks\u001b[0m\u001b[0;34m.\u001b[0m\u001b[0mEarlyStopping\u001b[0m\u001b[0;34m(\u001b[0m\u001b[0mmonitor\u001b[0m\u001b[0;34m=\u001b[0m\u001b[0;34m'val_loss'\u001b[0m\u001b[0;34m,\u001b[0m \u001b[0mpatience\u001b[0m\u001b[0;34m=\u001b[0m\u001b[0;36m20\u001b[0m\u001b[0;34m)\u001b[0m\u001b[0;34m\u001b[0m\u001b[0;34m\u001b[0m\u001b[0m\n\u001b[1;32m      5\u001b[0m \u001b[0mimhistory\u001b[0m \u001b[0;34m=\u001b[0m \u001b[0mimageVAE\u001b[0m\u001b[0;34m.\u001b[0m\u001b[0mfit\u001b[0m\u001b[0;34m(\u001b[0m\u001b[0mx\u001b[0m\u001b[0;34m=\u001b[0m\u001b[0mitrain\u001b[0m\u001b[0;34m,\u001b[0m \u001b[0my\u001b[0m\u001b[0;34m=\u001b[0m\u001b[0mitrain\u001b[0m\u001b[0;34m,\u001b[0m \u001b[0mepochs\u001b[0m\u001b[0;34m=\u001b[0m\u001b[0;36m200\u001b[0m\u001b[0;34m,\u001b[0m \u001b[0mbatch_size\u001b[0m\u001b[0;34m=\u001b[0m\u001b[0;36m32\u001b[0m\u001b[0;34m,\u001b[0m \u001b[0mvalidation_data\u001b[0m\u001b[0;34m=\u001b[0m\u001b[0;34m(\u001b[0m\u001b[0mival\u001b[0m\u001b[0;34m,\u001b[0m \u001b[0mival\u001b[0m\u001b[0;34m)\u001b[0m\u001b[0;34m,\u001b[0m\u001b[0mshuffle\u001b[0m\u001b[0;34m=\u001b[0m\u001b[0;32mTrue\u001b[0m\u001b[0;34m,\u001b[0m \u001b[0mcallbacks\u001b[0m\u001b[0;34m=\u001b[0m\u001b[0;34m[\u001b[0m\u001b[0mcallback\u001b[0m\u001b[0;34m]\u001b[0m\u001b[0;34m)\u001b[0m\u001b[0;34m\u001b[0m\u001b[0;34m\u001b[0m\u001b[0m\n",
      "\u001b[0;32m<ipython-input-10-fb6e55678f56>\u001b[0m in \u001b[0;36mbuild_vae_keras_model\u001b[0;34m(self)\u001b[0m\n\u001b[1;32m     74\u001b[0m     \u001b[0;32mdef\u001b[0m \u001b[0mbuild_vae_keras_model\u001b[0m\u001b[0;34m(\u001b[0m\u001b[0mself\u001b[0m\u001b[0;34m)\u001b[0m\u001b[0;34m:\u001b[0m\u001b[0;34m\u001b[0m\u001b[0;34m\u001b[0m\u001b[0m\n\u001b[1;32m     75\u001b[0m         \u001b[0mx_input\u001b[0m \u001b[0;34m=\u001b[0m \u001b[0mtf\u001b[0m\u001b[0;34m.\u001b[0m\u001b[0mkeras\u001b[0m\u001b[0;34m.\u001b[0m\u001b[0mInput\u001b[0m\u001b[0;34m(\u001b[0m\u001b[0mshape\u001b[0m\u001b[0;34m=\u001b[0m\u001b[0mself\u001b[0m\u001b[0;34m.\u001b[0m\u001b[0mdim_x\u001b[0m\u001b[0;34m)\u001b[0m\u001b[0;34m\u001b[0m\u001b[0;34m\u001b[0m\u001b[0m\n\u001b[0;32m---> 76\u001b[0;31m         \u001b[0mencoder\u001b[0m \u001b[0;34m=\u001b[0m \u001b[0mself\u001b[0m\u001b[0;34m.\u001b[0m\u001b[0mencoder\u001b[0m\u001b[0;34m(\u001b[0m\u001b[0;34m)\u001b[0m\u001b[0;34m\u001b[0m\u001b[0;34m\u001b[0m\u001b[0m\n\u001b[0m\u001b[1;32m     77\u001b[0m         \u001b[0mdecoder\u001b[0m \u001b[0;34m=\u001b[0m \u001b[0mself\u001b[0m\u001b[0;34m.\u001b[0m\u001b[0mdecoder\u001b[0m\u001b[0;34m(\u001b[0m\u001b[0;34m)\u001b[0m\u001b[0;34m\u001b[0m\u001b[0;34m\u001b[0m\u001b[0m\n\u001b[1;32m     78\u001b[0m \u001b[0;31m#         encoder.summary()\u001b[0m\u001b[0;34m\u001b[0m\u001b[0;34m\u001b[0m\u001b[0;34m\u001b[0m\u001b[0m\n",
      "\u001b[0;32m<ipython-input-10-fb6e55678f56>\u001b[0m in \u001b[0;36mencoder\u001b[0;34m(self)\u001b[0m\n\u001b[1;32m      7\u001b[0m     \u001b[0;32mdef\u001b[0m \u001b[0mencoder\u001b[0m\u001b[0;34m(\u001b[0m\u001b[0mself\u001b[0m\u001b[0;34m)\u001b[0m\u001b[0;34m:\u001b[0m\u001b[0;34m\u001b[0m\u001b[0;34m\u001b[0m\u001b[0m\n\u001b[1;32m      8\u001b[0m         \u001b[0;31m# define prior distribution for the code, which is an isotropic Gaussian\u001b[0m\u001b[0;34m\u001b[0m\u001b[0;34m\u001b[0m\u001b[0;34m\u001b[0m\u001b[0m\n\u001b[0;32m----> 9\u001b[0;31m         prior = tfp.distributions.Independent(tfp.distributions.Normal(loc=tf.zeros(self.latent_dim), scale=1.), \n\u001b[0m\u001b[1;32m     10\u001b[0m                                 reinterpreted_batch_ndims=1)\n\u001b[1;32m     11\u001b[0m \u001b[0;34m\u001b[0m\u001b[0m\n",
      "\u001b[0;31mNameError\u001b[0m: name 'tfp' is not defined"
     ]
    }
   ],
   "source": [
    "dim_x=len(param_train.columns)\n",
    "dim_y=np.shape(image_train[1])\n",
    "imageVAE=imVAE(dim_y, 32, 1, 1e-4).build_vae_keras_model()\n",
    "callback = tf.keras.callbacks.EarlyStopping(monitor='val_loss', patience=20)\n",
    "imhistory = imageVAE.fit(x=itrain, y=itrain, epochs=200, batch_size=32, validation_data=(ival, ival),shuffle=True, callbacks=[callback])\n",
    "pickle.dump(lda, open(\"../Trained_Models/ImageVAE\", 'wb'))"
   ]
  },
  {
   "cell_type": "code",
   "execution_count": null,
   "metadata": {},
   "outputs": [],
   "source": []
  }
 ],
 "metadata": {
  "kernelspec": {
   "display_name": "Python 3",
   "language": "python",
   "name": "python3"
  },
  "language_info": {
   "codemirror_mode": {
    "name": "ipython",
    "version": 3
   },
   "file_extension": ".py",
   "mimetype": "text/x-python",
   "name": "python",
   "nbconvert_exporter": "python",
   "pygments_lexer": "ipython3",
   "version": "3.8.5"
  }
 },
 "nbformat": 4,
 "nbformat_minor": 4
}
