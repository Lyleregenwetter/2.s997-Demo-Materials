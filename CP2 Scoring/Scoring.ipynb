{
 "cells": [
  {
   "cell_type": "code",
   "execution_count": 12,
   "id": "eb0c40d4",
   "metadata": {},
   "outputs": [],
   "source": [
    "import pandas as pd\n",
    "import urllib\n",
    "import numpy as np\n",
    "import tensorflow as tf"
   ]
  },
  {
   "cell_type": "code",
   "execution_count": 64,
   "id": "2f2bfd3a",
   "metadata": {},
   "outputs": [],
   "source": [
    "submissions=pd.read_csv(\"Submissions.csv\")\n",
    "test_images = np.load('test_images.npy')\n",
    "image_test=tf.cast(tf.expand_dims(test_images, -1), tf.float32)\n",
    "submissions.columns=[\"Time\", \"Link\", \"ID\", \"Email\", \"Name\"]"
   ]
  },
  {
   "cell_type": "code",
   "execution_count": 65,
   "id": "169f07b7",
   "metadata": {},
   "outputs": [
    {
     "data": {
      "text/html": [
       "<div>\n",
       "<style scoped>\n",
       "    .dataframe tbody tr th:only-of-type {\n",
       "        vertical-align: middle;\n",
       "    }\n",
       "\n",
       "    .dataframe tbody tr th {\n",
       "        vertical-align: top;\n",
       "    }\n",
       "\n",
       "    .dataframe thead th {\n",
       "        text-align: right;\n",
       "    }\n",
       "</style>\n",
       "<table border=\"1\" class=\"dataframe\">\n",
       "  <thead>\n",
       "    <tr style=\"text-align: right;\">\n",
       "      <th></th>\n",
       "      <th>Time</th>\n",
       "      <th>Link</th>\n",
       "      <th>ID</th>\n",
       "      <th>Email</th>\n",
       "      <th>Name</th>\n",
       "    </tr>\n",
       "  </thead>\n",
       "  <tbody>\n",
       "    <tr>\n",
       "      <th>0</th>\n",
       "      <td>10/17/2021 17:39:52</td>\n",
       "      <td>https://drive.google.com/open?id=1K-7kmWPTHlnb...</td>\n",
       "      <td>457757918</td>\n",
       "      <td>regenwet@mit.edu</td>\n",
       "      <td>Lyle Regenwetter</td>\n",
       "    </tr>\n",
       "    <tr>\n",
       "      <th>1</th>\n",
       "      <td>10/17/2021 17:40:23</td>\n",
       "      <td>https://drive.google.com/open?id=14clAgXtJEBjW...</td>\n",
       "      <td>229392444</td>\n",
       "      <td>regenwet@mit.edu</td>\n",
       "      <td>Lyle Regenwetter</td>\n",
       "    </tr>\n",
       "    <tr>\n",
       "      <th>2</th>\n",
       "      <td>10/17/2021 17:43:24</td>\n",
       "      <td>https://drive.google.com/open?id=1DrfornjZ0zy1...</td>\n",
       "      <td>352517891</td>\n",
       "      <td>regenwet@mit.edu</td>\n",
       "      <td>Lyle Regenwetter</td>\n",
       "    </tr>\n",
       "    <tr>\n",
       "      <th>3</th>\n",
       "      <td>10/17/2021 17:43:24</td>\n",
       "      <td>https://drive.google.com/open?id=1DrfornjZ0zy1...</td>\n",
       "      <td>352517892</td>\n",
       "      <td>regenwet@mit.edu</td>\n",
       "      <td>Lyle Regenwetter</td>\n",
       "    </tr>\n",
       "    <tr>\n",
       "      <th>4</th>\n",
       "      <td>10/17/2021 17:43:24</td>\n",
       "      <td>https://drive.google.com/open?id=1DrfornjZ0zy1...</td>\n",
       "      <td>352517893</td>\n",
       "      <td>regenwet@mit.edu</td>\n",
       "      <td>Lyle Regenwetter</td>\n",
       "    </tr>\n",
       "  </tbody>\n",
       "</table>\n",
       "</div>"
      ],
      "text/plain": [
       "                  Time                                               Link  \\\n",
       "0  10/17/2021 17:39:52  https://drive.google.com/open?id=1K-7kmWPTHlnb...   \n",
       "1  10/17/2021 17:40:23  https://drive.google.com/open?id=14clAgXtJEBjW...   \n",
       "2  10/17/2021 17:43:24  https://drive.google.com/open?id=1DrfornjZ0zy1...   \n",
       "3  10/17/2021 17:43:24  https://drive.google.com/open?id=1DrfornjZ0zy1...   \n",
       "4  10/17/2021 17:43:24  https://drive.google.com/open?id=1DrfornjZ0zy1...   \n",
       "\n",
       "          ID             Email              Name  \n",
       "0  457757918  regenwet@mit.edu  Lyle Regenwetter  \n",
       "1  229392444  regenwet@mit.edu  Lyle Regenwetter  \n",
       "2  352517891  regenwet@mit.edu  Lyle Regenwetter  \n",
       "3  352517892  regenwet@mit.edu  Lyle Regenwetter  \n",
       "4  352517893  regenwet@mit.edu  Lyle Regenwetter  "
      ]
     },
     "execution_count": 65,
     "metadata": {},
     "output_type": "execute_result"
    }
   ],
   "source": [
    "submissions.head()"
   ]
  },
  {
   "cell_type": "code",
   "execution_count": 66,
   "id": "7f362cf3",
   "metadata": {},
   "outputs": [],
   "source": [
    "def custom_score_metric(y_true, y_pred):\n",
    "    #calculate SSIM with filter size 11\n",
    "    SSIM_scores = tf.image.ssim(y_true, y_pred, 1, filter_size=11)\n",
    "    SSIM_scores_normalized = np.divide(np.add(SSIM_scores, 1),2)\n",
    "    #Calculate Intersection over Union\n",
    "    ground_truth_mask = np.squeeze(y_true<0.75)\n",
    "    rendered_mask = np.squeeze(y_pred<0.75)\n",
    "    intersection = np.multiply(ground_truth_mask,rendered_mask)\n",
    "    union = np.squeeze(np.add(ground_truth_mask,rendered_mask)>=1)\n",
    "    IOU = intersection.sum()/union.sum()\n",
    "    return tf.reduce_mean(np.sqrt(np.multiply(SSIM_scores_normalized, IOU)), axis=-1)"
   ]
  },
  {
   "cell_type": "code",
   "execution_count": 75,
   "id": "7b0bdaa9",
   "metadata": {},
   "outputs": [
    {
     "name": "stdout",
     "output_type": "stream",
     "text": [
      "Index(['Time', 'Link', 'ID', 'Email', 'Name', 'Score'], dtype='object')\n",
      "                  Time                                               Link  \\\n",
      "1  10/17/2021 17:40:23  https://drive.google.com/open?id=14clAgXtJEBjW...   \n",
      "5  10/17/2021 17:43:24  https://drive.google.com/open?id=1DrfornjZ0zy1...   \n",
      "2  10/17/2021 17:43:24  https://drive.google.com/open?id=1DrfornjZ0zy1...   \n",
      "3  10/17/2021 17:43:24  https://drive.google.com/open?id=1DrfornjZ0zy1...   \n",
      "4  10/17/2021 17:43:24  https://drive.google.com/open?id=1DrfornjZ0zy1...   \n",
      "0  10/17/2021 17:39:52  https://drive.google.com/open?id=1K-7kmWPTHlnb...   \n",
      "\n",
      "          ID             Email              Name     Score  \n",
      "1  229392444  regenwet@mit.edu  Lyle Regenwetter  0.372403  \n",
      "5  352517890  regenwet@mit.edu  Lyle Regenwetter  0.372403  \n",
      "2  352517891  regenwet@mit.edu  Lyle Regenwetter -1.000000  \n",
      "3  352517892  regenwet@mit.edu  Lyle Regenwetter -1.000000  \n",
      "4  352517893  regenwet@mit.edu  Lyle Regenwetter -1.000000  \n",
      "0  457757918  regenwet@mit.edu  Lyle Regenwetter  0.372403  \n"
     ]
    }
   ],
   "source": [
    "IDs=submissions[submissions.columns[2]].values\n",
    "scores=[]\n",
    "for ID in IDs:\n",
    "    try:\n",
    "        results=np.load(\"Results/\" + str(ID) + \" - Lyle Regenwetter.npy\")\n",
    "        score = custom_score_metric(image_test, results).numpy()\n",
    "        \n",
    "    except:\n",
    "        score=-1\n",
    "    scores.append(score)\n",
    "submissions[\"Score\"]=scores    \n",
    "scored_submissions=submissions.copy()\n",
    "print(scored_submissions.columns)\n",
    "scored_submissions.sort_values(by=[submissions.columns[2]], axis=0, inplace=True, ascending=True)\n",
    "print(scored_submissions)\n",
    "scored_submissions.drop(submissions.columns[1], axis=1, inplace=True)\n",
    "scored_submissions.drop(submissions.columns[3], axis=1, inplace=True)\n",
    "scored_submissions.drop(submissions.columns[4], axis=1, inplace=True)\n",
    "scored_submissions.to_csv(\"scored_submissions.csv\", index=False)\n",
    "\n",
    "leaderboard=submissions.copy()\n",
    "leaderboard=leaderboard.nlargest(5, \"Score\")\n",
    "leaderboard.drop(submissions.columns[1], axis=1, inplace=True)\n",
    "leaderboard.drop(submissions.columns[3], axis=1, inplace=True)\n",
    "leaderboard.to_csv(\"leaderboard.csv\", index=False)"
   ]
  },
  {
   "cell_type": "code",
   "execution_count": 16,
   "id": "e059f795",
   "metadata": {},
   "outputs": [
    {
     "name": "stdout",
     "output_type": "stream",
     "text": [
      "0.37240264\n"
     ]
    }
   ],
   "source": []
  },
  {
   "cell_type": "code",
   "execution_count": null,
   "id": "c89e9387",
   "metadata": {},
   "outputs": [],
   "source": []
  }
 ],
 "metadata": {
  "kernelspec": {
   "display_name": "Python 3",
   "language": "python",
   "name": "python3"
  },
  "language_info": {
   "codemirror_mode": {
    "name": "ipython",
    "version": 3
   },
   "file_extension": ".py",
   "mimetype": "text/x-python",
   "name": "python",
   "nbconvert_exporter": "python",
   "pygments_lexer": "ipython3",
   "version": "3.9.5"
  }
 },
 "nbformat": 4,
 "nbformat_minor": 5
}
